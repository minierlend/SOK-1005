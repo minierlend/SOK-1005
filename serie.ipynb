{
 "cells": [
  {
   "cell_type": "code",
   "execution_count": 1,
   "metadata": {},
   "outputs": [
    {
     "name": "stdout",
     "output_type": "stream",
     "text": [
      " Termin  Terminbeløp  Renter  Avdrag  Restgjeld\n",
      "      1        30000   11250   18750    4481250\n",
      "      2        29953   11203   18750    4462500\n",
      "      3        29906   11156   18750    4443750\n",
      "      4        29859   11109   18750    4425000\n",
      "      5        29812   11062   18750    4406250\n",
      " Termin  Terminbeløp  Renter  Avdrag  Restgjeld\n",
      "     55        27468    8718   18750    3468750\n",
      "     56        27421    8671   18750    3450000\n",
      "     57        27375    8625   18750    3431250\n",
      "     58        27328    8578   18750    3412500\n",
      "     59        27281    8531   18750    3393750\n",
      " Termin  Terminbeløp  Renter  Avdrag  Restgjeld\n",
      "      5        29812   11062   18750    4406250\n",
      "      6        29765   11015   18750    4387500\n",
      "      7        29718   10968   18750    4368750\n",
      "      8        29671   10921   18750    4350000\n",
      "      9        29625   10875   18750    4331250\n"
     ]
    }
   ],
   "source": [
    "import numpy as np\n",
    "import pandas as pd\n",
    "import matplotlib.pyplot as plt\n",
    "\n",
    "\n",
    "def serie():\n",
    "    lanemengde = input('Hvor mye vil du låne? \\n')\n",
    "    lanemengde = float(lanemengde.replace(' ', ''))\n",
    "\n",
    "    terminer = float(input('Hvor mange år vil du ha lånet? \\n')) * 12\n",
    "\n",
    "    rente = float(input('Hva er renten på lånet ditt? \\n').replace(',', '.').replace('%', '')) / 100 / 12\n",
    "\n",
    "\n",
    "\n",
    "\n",
    "    avdrag = lanemengde/terminer\n",
    "\n",
    "\n",
    "    tabell = []\n",
    "\n",
    "    termin = 1\n",
    "\n",
    "\n",
    "    while lanemengde > 0:\n",
    "        m_rente = rente * lanemengde\n",
    "        terminbelop = m_rente+avdrag \n",
    "        lanemengde = lanemengde - avdrag\n",
    "        tabell.append([termin, terminbelop, m_rente, avdrag, lanemengde])\n",
    "        termin += 1\n",
    "\n",
    "    inn = 1\n",
    " \n",
    "\n",
    "\n",
    "    df = pd.DataFrame(tabell, columns=['Termin', 'Terminbeløp', 'Renter', 'Avdrag', 'Restgjeld']).astype(int)\n",
    "    while (inn != 0 ):\n",
    "        print(df.truncate(before=inn - 1, after=inn + 3).to_string(index=False))\n",
    "        inn = int(input('\\nHvilken termin vil du se? (0 for å avslutte)\\n: '))\n",
    "\n",
    "serie()"
   ]
  },
  {
   "cell_type": "code",
   "execution_count": null,
   "metadata": {},
   "outputs": [],
   "source": []
  }
 ],
 "metadata": {
  "interpreter": {
   "hash": "13408c4e01c663403261303c29f7471c2a05e81eecd2a22d7ccafa7e900955a3"
  },
  "kernelspec": {
   "display_name": "Python 3.9.9 64-bit (windows store)",
   "language": "python",
   "name": "python3"
  },
  "language_info": {
   "codemirror_mode": {
    "name": "ipython",
    "version": 3
   },
   "file_extension": ".py",
   "mimetype": "text/x-python",
   "name": "python",
   "nbconvert_exporter": "python",
   "pygments_lexer": "ipython3",
   "version": "3.9.9"
  },
  "orig_nbformat": 4
 },
 "nbformat": 4,
 "nbformat_minor": 2
}
