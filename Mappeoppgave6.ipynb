{
 "cells": [
  {
   "cell_type": "code",
   "execution_count": null,
   "metadata": {},
   "outputs": [],
   "source": [
    "import pandas as pd\n",
    "import numpy as np\n",
    "import matplotlib.pyplot as plt\n",
    "import seaborn as sns \n",
    "from bokeh.plotting import figure\n",
    "from bokeh.io import show, output_notebook\n",
    "from bokeh.plotting import output_file\n",
    "from bs4 import BeautifulSoup\n",
    "import requests\n",
    "from io import StringIO"
   ]
  },
  {
   "cell_type": "code",
   "execution_count": null,
   "metadata": {},
   "outputs": [],
   "source": [
    "#leser dataset\n",
    "df = pd.read_csv('population_by_country_2020.csv')\n",
    "df"
   ]
  },
  {
   "cell_type": "code",
   "execution_count": null,
   "metadata": {},
   "outputs": [],
   "source": [
    "#dropper kolloner\n",
    "df = df.drop('Yearly Change', 1)\n",
    "df = df.drop('Net Change', 1)\n",
    "df"
   ]
  },
  {
   "cell_type": "code",
   "execution_count": null,
   "metadata": {},
   "outputs": [],
   "source": [
    "#kutter datasett\n",
    "df = df[0:10]\n",
    "df"
   ]
  },
  {
   "cell_type": "code",
   "execution_count": null,
   "metadata": {},
   "outputs": [],
   "source": [
    "fig,ax=plt.subplots()\n",
    "\n",
    "\n",
    "\n",
    "#plotter\n",
    "ax.scatter(np.log(df['Population (2020)']), df['Density (P/Km²)'],  label='Observasjoner')\n",
    "ax.legend(loc='lower right',frameon=False)"
   ]
  },
  {
   "cell_type": "code",
   "execution_count": null,
   "metadata": {},
   "outputs": [],
   "source": [
    "#endrer navn på columns\n",
    "df.rename(columns = {'Country (or dependency)':'country', 'Population (2020)':'Population'}, inplace = True)\n",
    "df"
   ]
  },
  {
   "cell_type": "code",
   "execution_count": null,
   "metadata": {},
   "outputs": [],
   "source": [
    "#lager norsk og legger til fargekoder\n",
    "country={'China': 'Kina', 'India': 'India', 'United States': 'USA', 'Indonesia': 'Indonesia', 'Pakistan': 'Pakistan', 'Brazil': 'Brasil', 'Nigeria':'Nigeria','Bangladesh':'Bangladesh',\n",
    "'Russia':'Russland', 'Mexico':'Mexico'}\n",
    "colors={'China': '#E14827', 'India': '#FAEBD7', 'United States': '#CD3333', 'Indonesia': '#CDAA7D', 'Pakistan': '#8A3324', 'Brazil': '#FFC125', 'Nigeria':'#00C957','Bangladesh':'#8B5742',\n",
    "'Russia':'#FFFAFA', 'Mexico':'#D02090'}\n",
    "\n",
    "\n",
    "df['country_no']=df['country'].apply(lambda cont:  country[cont])\n",
    "df['colors']=df['country'].apply(lambda cont: colors[cont])\n",
    "df"
   ]
  },
  {
   "cell_type": "code",
   "execution_count": null,
   "metadata": {},
   "outputs": [],
   "source": [
    "#får det til å se penere ut til etterpå\n",
    "df['size']=df['Population'].apply(lambda pop: pop**0.5/300)\n",
    "display(df[df['country']=='India'])\n",
    "df"
   ]
  },
  {
   "cell_type": "code",
   "execution_count": null,
   "metadata": {},
   "outputs": [],
   "source": [
    "df['pop_mill_str']=df['Population'].apply(lambda pop:  '{:,}'.format(int(pop/1000000)))\n",
    "df"
   ]
  },
  {
   "cell_type": "code",
   "execution_count": null,
   "metadata": {},
   "outputs": [],
   "source": [
    "#tar vekk %\n",
    "df['Urban Pop %'] = df['Urban Pop %'].str.replace('%', '')\n",
    "df['World Share'] = df['World Share'].str.replace('%', '')\n",
    "df.head()\n"
   ]
  },
  {
   "cell_type": "code",
   "execution_count": null,
   "metadata": {},
   "outputs": [],
   "source": [
    "\n",
    "df['Andel_befolkning']=df['World Share'].apply(lambda l: float(l))\n",
    "df.head()"
   ]
  },
  {
   "cell_type": "code",
   "execution_count": null,
   "metadata": {},
   "outputs": [],
   "source": [
    "from bokeh.plotting import figure\n",
    "\n",
    "#creating figure:\n",
    "p = figure(\n",
    "        title = \"Populasjon og areal 10 største landene\", \n",
    "        x_axis_label = 'Fertilsrate',\n",
    "        y_axis_label = 'Median alder',\n",
    "    \n",
    "        x_axis_type = \"log\",\n",
    "    \n",
    "        tools=\"hover\", \n",
    "        tooltips = [\n",
    "            (\"Land\",\"@country_no\"),\n",
    "            (\"Andel av jordas befolkning i prosent\", \"@Andel_befolkning\"),\n",
    "            (\"Befolkning\",\"@pop_mill_str\")\n",
    "            ],\n",
    "    \n",
    "        plot_height = 580,\n",
    "        plot_width = 980)"
   ]
  },
  {
   "cell_type": "code",
   "execution_count": null,
   "metadata": {},
   "outputs": [],
   "source": [
    "from bokeh.io import show, output_notebook\n",
    "from bokeh.plotting import output_file\n",
    "\n",
    "p.scatter(\n",
    "    source=df,\n",
    "    x= 'Fert. Rate', \n",
    "    y= 'Med. Age',\n",
    "    \n",
    "    size='size', \n",
    "    color= 'colors',\n",
    "    legend_field='country_no',\n",
    "    alpha= 0.8\n",
    "    )\n",
    "\n",
    "#Creating the graph and saving as html\n",
    "output_notebook()\n",
    "output_file(\"populasjoon.html\")\n",
    "show(p)"
   ]
  }
 ],
 "metadata": {
  "interpreter": {
   "hash": "13408c4e01c663403261303c29f7471c2a05e81eecd2a22d7ccafa7e900955a3"
  },
  "kernelspec": {
   "display_name": "Python 3.9.12 64-bit (windows store)",
   "language": "python",
   "name": "python3"
  },
  "language_info": {
   "codemirror_mode": {
    "name": "ipython",
    "version": 3
   },
   "file_extension": ".py",
   "mimetype": "text/x-python",
   "name": "python",
   "nbconvert_exporter": "python",
   "pygments_lexer": "ipython3",
   "version": "3.9.12"
  },
  "orig_nbformat": 4
 },
 "nbformat": 4,
 "nbformat_minor": 2
}
