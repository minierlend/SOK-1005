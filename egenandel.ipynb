{
 "cells": [
  {
   "cell_type": "code",
   "execution_count": 19,
   "metadata": {},
   "outputs": [
    {
     "data": {
      "image/png": "[encoded data removed]",
      "text/plain": [
       "<Figure size 432x288 with 1 Axes>"
      ]
     },
     "metadata": {},
     "output_type": "display_data"
    },
    {
     "name": "stdout",
     "output_type": "stream",
     "text": [
      "Egenkapitalen som trengs er\n",
      " (450000.00) \n"
     ]
    }
   ],
   "source": [
    "import numpy as np\n",
    "import matplotlib.pyplot as plt\n",
    "\n",
    "def egenandel():\n",
    "    kapital = input('Hvor mye koster huset du ønsker å kjøpe?\\n')\n",
    "    kapital = float(kapital.replace(' ', ''))\n",
    "                            \n",
    "    egenkapital = kapital * 0.15\n",
    "\n",
    "\n",
    "\n",
    "    plt.pie([kapital-egenkapital, egenkapital], labels=[\"kapital\", \"egenandel\"],  explode=(0.05, 0.05))\n",
    "    plt.title('Husets verdi')\n",
    "    \n",
    "    plt.show()\n",
    "\n",
    "\n",
    "\n",
    "    \n",
    "    print(\"Egenkapitalen som trengs er\\n (%.2f) \" % egenkapital)  \n",
    "egenandel()"
   ]
  },
  {
   "cell_type": "code",
   "execution_count": null,
   "metadata": {},
   "outputs": [],
   "source": []
  }
 ],
 "metadata": {
  "interpreter": {
   "hash": "13408c4e01c663403261303c29f7471c2a05e81eecd2a22d7ccafa7e900955a3"
  },
  "kernelspec": {
   "display_name": "Python 3.9.9 64-bit (windows store)",
   "language": "python",
   "name": "python3"
  },
  "language_info": {
   "codemirror_mode": {
    "name": "ipython",
    "version": 3
   },
   "file_extension": ".py",
   "mimetype": "text/x-python",
   "name": "python",
   "nbconvert_exporter": "python",
   "pygments_lexer": "ipython3",
   "version": "3.9.9"
  },
  "orig_nbformat": 4
 },
 "nbformat": 4,
 "nbformat_minor": 2
}
